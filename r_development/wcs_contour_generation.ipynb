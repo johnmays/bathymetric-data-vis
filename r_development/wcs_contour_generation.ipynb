{
 "cells": [
  {
   "cell_type": "markdown",
   "metadata": {},
   "source": [
    "# Bathymetric Data Visualization\n",
    "### Objective(s) for this notebook:\n",
    "- Download a small tile from _WCS_ & attempt to make successive contours from it with a contour making function, which exports a list or set of contours in vector format\n",
    "- Then, try to stich together _WCS_ tiles to create the entire Mediterranean raster\n",
    "- Acquire, plot, and export contours for this stitch"
   ]
  },
  {
   "cell_type": "code",
   "execution_count": 2,
   "metadata": {
    "vscode": {
     "languageId": "r"
    }
   },
   "outputs": [],
   "source": [
    "# You can find more detail on these libraries by consulting my install script or\n",
    "# visiting their page on CRAN.\n",
    "library(XML)\n",
    "library(ncdf4)\n",
    "library(sp)\n",
    "library(lattice)\n",
    "library(terra)\n",
    "library(downloader)\n",
    "library(ggplot2)\n",
    "library(directlabels)\n",
    "library(rasterVis)\n",
    "library(raster)\n",
    "library(gdalUtilities)"
   ]
  },
  {
   "cell_type": "code",
   "execution_count": null,
   "metadata": {
    "vscode": {
     "languageId": "r"
    }
   },
   "outputs": [],
   "source": []
  }
 ],
 "metadata": {
  "kernelspec": {
   "display_name": "R",
   "language": "R",
   "name": "ir"
  },
  "language_info": {
   "codemirror_mode": "r",
   "file_extension": ".r",
   "mimetype": "text/x-r-source",
   "name": "R",
   "pygments_lexer": "r",
   "version": "4.3.1"
  }
 },
 "nbformat": 4,
 "nbformat_minor": 2
}
