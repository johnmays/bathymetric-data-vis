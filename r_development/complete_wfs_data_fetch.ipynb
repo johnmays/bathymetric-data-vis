{
 "cells": [
  {
   "cell_type": "markdown",
   "metadata": {},
   "source": [
    "# Bathymetric Data Visualization\n",
    "### Objective(s) for this notebook:\n",
    "- Acquire contour line features for entire Mediterranean\n",
    "- Use plots to understand the depth lines\n",
    "- Possibly export vector data as SVGs to mess around with in other programs"
   ]
  },
  {
   "cell_type": "code",
   "execution_count": 1,
   "metadata": {
    "vscode": {
     "languageId": "r"
    }
   },
   "outputs": [
    {
     "name": "stderr",
     "output_type": "stream",
     "text": [
      "terra 1.7.55\n",
      "\n",
      "Loading required package: lattice\n",
      "\n"
     ]
    }
   ],
   "source": [
    "# You can find more detail on these libraries by consulting my install script or\n",
    "# visiting their page on CRAN.\n",
    "library(XML)\n",
    "library(ncdf4)\n",
    "library(sp)\n",
    "library(terra)\n",
    "library(downloader)\n",
    "library(ggplot2)\n",
    "library(directlabels)\n",
    "library(rasterVis)\n",
    "library(raster)\n",
    "library(gdalUtilities)"
   ]
  },
  {
   "cell_type": "code",
   "execution_count": 2,
   "metadata": {
    "vscode": {
     "languageId": "r"
    }
   },
   "outputs": [],
   "source": [
    "# Set a bounding box for the entire Mediterranean:\n",
    "xmin <- -6\n",
    "xmax <- 37\n",
    "ymin <- 29\n",
    "ymax <- 46"
   ]
  },
  {
   "cell_type": "markdown",
   "metadata": {},
   "source": [
    "## Loading features from WFS:"
   ]
  },
  {
   "cell_type": "code",
   "execution_count": 3,
   "metadata": {
    "vscode": {
     "languageId": "r"
    }
   },
   "outputs": [],
   "source": [
    "get_bathymetry_contours <- function(xmin = 22.5, xmax = 25, ymin = 37.5, ymax = 40) {\n",
    "  feature_type <- \"emodnet:contours\"\n",
    "  bounding_box <- paste(xmin, ymin, xmax, ymax, sep = \",\")\n",
    "  url <- paste(\"https://ows.emodnet-bathymetry.eu/wfs?service=WFS&version=1.0.0&request=GetFeature&typeName=\",\n",
    "               feature_type, \"&OutputFormat=json&bbox=\", bounding_box, sep = \"\")\n",
    "  print(paste(\"FULL Request URL:\", url))\n",
    "  # a function in terra for reading a GeoJSON file into terra's S4 vector\n",
    "  layer <- terra::vect(url) # , layer = \"OGRGeoJSON\"\n",
    "  contours <- terra::geom(layer) # turning vect into geom matri\n",
    "  contours <- as.data.frame(contours) # adding a data frame to geom matrix\n",
    "  return(contours)\n",
    "}"
   ]
  },
  {
   "cell_type": "code",
   "execution_count": 4,
   "metadata": {
    "vscode": {
     "languageId": "r"
    }
   },
   "outputs": [
    {
     "name": "stdout",
     "output_type": "stream",
     "text": [
      "[1] \"FULL Request URL: https://ows.emodnet-bathymetry.eu/wfs?service=WFS&version=1.0.0&request=GetFeature&typeName=emodnet:contours&OutputFormat=json&bbox=-6,29,37,46\"\n"
     ]
    }
   ],
   "source": [
    "contours <- get_bathymetry_contours(xmin, xmax, ymin, ymax)"
   ]
  },
  {
   "cell_type": "markdown",
   "metadata": {},
   "source": [
    "## Loading features from cached `contours` object:"
   ]
  },
  {
   "cell_type": "code",
   "execution_count": 8,
   "metadata": {
    "vscode": {
     "languageId": "r"
    }
   },
   "outputs": [],
   "source": [
    "# Uncomment to save:\n",
    "# saveRDS(contours, file = \"./rcache/contours.rdat\")"
   ]
  },
  {
   "cell_type": "code",
   "execution_count": null,
   "metadata": {
    "vscode": {
     "languageId": "r"
    }
   },
   "outputs": [],
   "source": [
    "# Uncomment to load:\n",
    "# contours <- readRDS(file = \"./rcache/contours.rdat\")"
   ]
  },
  {
   "cell_type": "markdown",
   "metadata": {},
   "source": [
    "## Exploring data:"
   ]
  },
  {
   "cell_type": "code",
   "execution_count": 9,
   "metadata": {
    "vscode": {
     "languageId": "r"
    }
   },
   "outputs": [
    {
     "data": {
      "text/html": [
       "<table class=\"dataframe\">\n",
       "<caption>A data.frame: 6 × 5</caption>\n",
       "<thead>\n",
       "\t<tr><th></th><th scope=col>geom</th><th scope=col>part</th><th scope=col>x</th><th scope=col>y</th><th scope=col>hole</th></tr>\n",
       "\t<tr><th></th><th scope=col>&lt;dbl&gt;</th><th scope=col>&lt;dbl&gt;</th><th scope=col>&lt;dbl&gt;</th><th scope=col>&lt;dbl&gt;</th><th scope=col>&lt;dbl&gt;</th></tr>\n",
       "</thead>\n",
       "<tbody>\n",
       "\t<tr><th scope=row>1</th><td>1</td><td>1</td><td>0.3666</td><td>38.6344</td><td>0</td></tr>\n",
       "\t<tr><th scope=row>2</th><td>1</td><td>1</td><td>0.3666</td><td>38.6343</td><td>0</td></tr>\n",
       "\t<tr><th scope=row>3</th><td>1</td><td>1</td><td>0.3668</td><td>38.6341</td><td>0</td></tr>\n",
       "\t<tr><th scope=row>4</th><td>1</td><td>1</td><td>0.3670</td><td>38.6338</td><td>0</td></tr>\n",
       "\t<tr><th scope=row>5</th><td>1</td><td>1</td><td>0.3672</td><td>38.6336</td><td>0</td></tr>\n",
       "\t<tr><th scope=row>6</th><td>1</td><td>1</td><td>0.3674</td><td>38.6333</td><td>0</td></tr>\n",
       "</tbody>\n",
       "</table>\n"
      ],
      "text/latex": [
       "A data.frame: 6 × 5\n",
       "\\begin{tabular}{r|lllll}\n",
       "  & geom & part & x & y & hole\\\\\n",
       "  & <dbl> & <dbl> & <dbl> & <dbl> & <dbl>\\\\\n",
       "\\hline\n",
       "\t1 & 1 & 1 & 0.3666 & 38.6344 & 0\\\\\n",
       "\t2 & 1 & 1 & 0.3666 & 38.6343 & 0\\\\\n",
       "\t3 & 1 & 1 & 0.3668 & 38.6341 & 0\\\\\n",
       "\t4 & 1 & 1 & 0.3670 & 38.6338 & 0\\\\\n",
       "\t5 & 1 & 1 & 0.3672 & 38.6336 & 0\\\\\n",
       "\t6 & 1 & 1 & 0.3674 & 38.6333 & 0\\\\\n",
       "\\end{tabular}\n"
      ],
      "text/markdown": [
       "\n",
       "A data.frame: 6 × 5\n",
       "\n",
       "| <!--/--> | geom &lt;dbl&gt; | part &lt;dbl&gt; | x &lt;dbl&gt; | y &lt;dbl&gt; | hole &lt;dbl&gt; |\n",
       "|---|---|---|---|---|---|\n",
       "| 1 | 1 | 1 | 0.3666 | 38.6344 | 0 |\n",
       "| 2 | 1 | 1 | 0.3666 | 38.6343 | 0 |\n",
       "| 3 | 1 | 1 | 0.3668 | 38.6341 | 0 |\n",
       "| 4 | 1 | 1 | 0.3670 | 38.6338 | 0 |\n",
       "| 5 | 1 | 1 | 0.3672 | 38.6336 | 0 |\n",
       "| 6 | 1 | 1 | 0.3674 | 38.6333 | 0 |\n",
       "\n"
      ],
      "text/plain": [
       "  geom part x      y       hole\n",
       "1 1    1    0.3666 38.6344 0   \n",
       "2 1    1    0.3666 38.6343 0   \n",
       "3 1    1    0.3668 38.6341 0   \n",
       "4 1    1    0.3670 38.6338 0   \n",
       "5 1    1    0.3672 38.6336 0   \n",
       "6 1    1    0.3674 38.6333 0   "
      ]
     },
     "metadata": {},
     "output_type": "display_data"
    }
   ],
   "source": [
    "head(contours)"
   ]
  },
  {
   "cell_type": "markdown",
   "metadata": {},
   "source": [
    "`part` and `hole` are always 1 & 0 respectively.  I'm not sure what their purpose is.  Somewhere along the way, the elevation component of the data was lost."
   ]
  },
  {
   "cell_type": "code",
   "execution_count": 13,
   "metadata": {
    "vscode": {
     "languageId": "r"
    }
   },
   "outputs": [
    {
     "data": {
      "text/html": [
       "<style>\n",
       ".list-inline {list-style: none; margin:0; padding: 0}\n",
       ".list-inline>li {display: inline-block}\n",
       ".list-inline>li:not(:last-child)::after {content: \"\\00b7\"; padding: 0 .5ex}\n",
       "</style>\n",
       "<ol class=list-inline><li>4524454</li><li>5</li></ol>\n"
      ],
      "text/latex": [
       "\\begin{enumerate*}\n",
       "\\item 4524454\n",
       "\\item 5\n",
       "\\end{enumerate*}\n"
      ],
      "text/markdown": [
       "1. 4524454\n",
       "2. 5\n",
       "\n",
       "\n"
      ],
      "text/plain": [
       "[1] 4524454       5"
      ]
     },
     "metadata": {},
     "output_type": "display_data"
    }
   ],
   "source": [
    "dim.data.frame(contours)"
   ]
  },
  {
   "cell_type": "markdown",
   "metadata": {},
   "source": [
    "## Plotting:"
   ]
  },
  {
   "cell_type": "markdown",
   "metadata": {},
   "source": [
    "# Pause:\n",
    "I think this strategy of fetching contour lines isn't going to work for my purposes.  The contours stored by EMODnet are insufficient, because they go in irregular intervals (50,100,200,500,1000,2000,5000 meters).  I think I'm going to have to make my own contour lines with the raster data, which really sucks.  The reaster data is more complete, but much larger in size, so I will have to sort of download it in tiles, stitch the tiles together, and then create vectors from that.\n",
    "\n",
    "**I guess the approach should be as follows:**\n",
    "- Download a small tile from _WCS_\n",
    "- attempt to make successive contours from it with a contour making function, which exports a list or set of contours in vector format\n",
    "- Then, try to stich together tiles to create the entire Mediterranean raster\n",
    "- Acquire, plot, and export contours for this stitch"
   ]
  }
 ],
 "metadata": {
  "kernelspec": {
   "display_name": "R",
   "language": "R",
   "name": "ir"
  },
  "language_info": {
   "codemirror_mode": "r",
   "file_extension": ".r",
   "mimetype": "text/x-r-source",
   "name": "R",
   "pygments_lexer": "r",
   "version": "4.3.1"
  }
 },
 "nbformat": 4,
 "nbformat_minor": 2
}
