{
 "cells": [
  {
   "cell_type": "markdown",
   "metadata": {},
   "source": [
    "This is a script for taking the .pngs exported by my R notebooks and giving them\n",
    "an alpha channel (and a transparent background).  Currently, there is no support\n",
    "for pixel-by-pixel manipulation by R (why should there be, really?), so I'm\n",
    "doing it in Python."
   ]
  },
  {
   "cell_type": "code",
   "execution_count": 1,
   "metadata": {},
   "outputs": [],
   "source": [
    "import os\n",
    "from PIL import Image\n",
    "from tqdm import tqdm"
   ]
  },
  {
   "cell_type": "code",
   "execution_count": 2,
   "metadata": {},
   "outputs": [],
   "source": [
    "os.chdir(\"../exports/\")"
   ]
  },
  {
   "cell_type": "markdown",
   "metadata": {},
   "source": [
    "Probably a more efficient way to do this w/ vectorization, but I don't care at this point.\n",
    "Just using PIL for now"
   ]
  },
  {
   "cell_type": "code",
   "execution_count": 3,
   "metadata": {},
   "outputs": [
    {
     "name": "stderr",
     "output_type": "stream",
     "text": [
      "100%|██████████| 11/11 [02:49<00:00, 15.41s/it]\n"
     ]
    }
   ],
   "source": [
    "for file_name in tqdm(os.listdir(os.getcwd())):\n",
    "    if file_name.endswith(\".png\") and not file_name.endswith(\"alpha.png\"):\n",
    "        img = Image.open(file_name)\n",
    "        img.load() # make pixels accessible\n",
    "        img.putalpha(alpha=255) # 255 => fully opaque\n",
    "        width, height = img.size\n",
    "        for col in range(width):\n",
    "            for row in range(height):\n",
    "                # If it is black on this pixel, make it transparent:\n",
    "                if img.getpixel((col, row))[0] == 0:\n",
    "                    img.putpixel((col, row), (255, 0))\n",
    "        new_file_name = file_name[:-4] + \"_alpha\" + \".png\"\n",
    "        img.save(new_file_name)"
   ]
  }
 ],
 "metadata": {
  "kernelspec": {
   "display_name": "Python 3",
   "language": "python",
   "name": "python3"
  },
  "language_info": {
   "codemirror_mode": {
    "name": "ipython",
    "version": 3
   },
   "file_extension": ".py",
   "mimetype": "text/x-python",
   "name": "python",
   "nbconvert_exporter": "python",
   "pygments_lexer": "ipython3",
   "version": "3.7.13"
  }
 },
 "nbformat": 4,
 "nbformat_minor": 2
}
