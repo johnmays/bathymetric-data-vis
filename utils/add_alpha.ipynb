{
 "cells": [
  {
   "cell_type": "markdown",
   "metadata": {},
   "source": [
    "This is a script for taking the .pngs exported by my R notebooks and giving them\n",
    "an alpha channel (and a transparent background).  Currently, there is no support\n",
    "for pixel-by-pixel manipulation by R (why should there be, really?), so I'm\n",
    "doing it in Python."
   ]
  },
  {
   "cell_type": "code",
   "execution_count": 1,
   "metadata": {},
   "outputs": [],
   "source": [
    "colors_reverse = False"
   ]
  },
  {
   "cell_type": "code",
   "execution_count": 2,
   "metadata": {},
   "outputs": [],
   "source": [
    "import os\n",
    "from PIL import Image, ImageColor\n",
    "from tqdm import tqdm\n",
    "from colors import *"
   ]
  },
  {
   "cell_type": "code",
   "execution_count": 3,
   "metadata": {},
   "outputs": [],
   "source": [
    "os.chdir(\"../exports/\")"
   ]
  },
  {
   "cell_type": "code",
   "execution_count": 4,
   "metadata": {},
   "outputs": [],
   "source": [
    "if colors_reverse:\n",
    "    colors = colors.reverse()"
   ]
  },
  {
   "cell_type": "markdown",
   "metadata": {},
   "source": [
    "Probably a more efficient way to do this w/ vectorization, but I don't care at this point.\n",
    "Just using PIL for now"
   ]
  },
  {
   "cell_type": "code",
   "execution_count": 5,
   "metadata": {},
   "outputs": [
    {
     "name": "stderr",
     "output_type": "stream",
     "text": [
      "100%|██████████| 10/10 [04:07<00:00, 24.71s/it]\n"
     ]
    }
   ],
   "source": [
    "file_index = 0\n",
    "for file_name in tqdm(sorted(os.listdir(os.getcwd()))):\n",
    "    if file_name.endswith(\".png\") and not file_name.endswith(\"alpha.png\"):\n",
    "        img = Image.open(file_name)\n",
    "        rgba_img = Image.new(\"RGBA\", img.size) # load new image w/ RGB and alpha channels\n",
    "        img.load() # make pixels accessible\n",
    "        rgba_img.load() # ''\n",
    "        width, height = img.size\n",
    "        for col in range(width):\n",
    "            for row in range(height):\n",
    "                # If it is black on this pixel, make it transparent:\n",
    "                if img.getpixel((col, row)) == 0:\n",
    "                    rgba_img.putpixel((col, row), (0,0,0,0))\n",
    "                else:\n",
    "                    rgba_img.putpixel((col, row), ImageColor.getcolor(colors[file_index], \"RGBA\"))\n",
    "        new_file_name = file_name[:-4] + \"_alpha\" + \".png\"\n",
    "        rgba_img.save(new_file_name)\n",
    "        file_index += 1"
   ]
  }
 ],
 "metadata": {
  "kernelspec": {
   "display_name": "Python 3",
   "language": "python",
   "name": "python3"
  },
  "language_info": {
   "codemirror_mode": {
    "name": "ipython",
    "version": 3
   },
   "file_extension": ".py",
   "mimetype": "text/x-python",
   "name": "python",
   "nbconvert_exporter": "python",
   "pygments_lexer": "ipython3",
   "version": "3.7.13"
  }
 },
 "nbformat": 4,
 "nbformat_minor": 2
}
