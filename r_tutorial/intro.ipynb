{
 "cells": [
  {
   "cell_type": "markdown",
   "metadata": {},
   "source": [
    "# Intro notebook\n",
    "I've never used R before so this is an attempt to learn.  I am a data scientist after all.  I'm using the R Debuts booklet by Emmanuel Paradis from University of Montpellier."
   ]
  },
  {
   "cell_type": "markdown",
   "metadata": {},
   "source": [
    "- R is a dialect of S\n",
    "- it is interpreted\n",
    "- it is object-oriented\n",
    "- objects, operators, functions (which are objects as well)\n",
    "- objects are all stored in active memory"
   ]
  },
  {
   "cell_type": "code",
   "execution_count": null,
   "metadata": {
    "vscode": {
     "languageId": "r"
    }
   },
   "outputs": [],
   "source": []
  }
 ],
 "metadata": {
  "kernelspec": {
   "display_name": "R",
   "language": "R",
   "name": "ir"
  },
  "language_info": {
   "name": "R"
  }
 },
 "nbformat": 4,
 "nbformat_minor": 2
}
