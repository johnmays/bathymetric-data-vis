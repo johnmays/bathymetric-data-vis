{
 "cells": [
  {
   "cell_type": "markdown",
   "metadata": {},
   "source": [
    "# Bathymetric Data Visualization\n",
    "- __Objective:__ Acquire vector or high-definition raster images of equal-depth lines from Meditteranean bathymetry data.\n",
    "- __Data:__ You can send requests to [this URL](https://ows.emodnet-bathymetry.eu/wcs?service=wcs&version=1.0.0&request=getcoverage&coverage=) to get raster bathymetry data.  This bathymetric data is recorded and published by the European Marine Observation and Data Network (EMODnet) via their Web Coverage Service (WCS; specifically for posting raster data)."
   ]
  },
  {
   "cell_type": "code",
   "execution_count": 1,
   "metadata": {
    "vscode": {
     "languageId": "r"
    }
   },
   "outputs": [
    {
     "name": "stderr",
     "output_type": "stream",
     "text": [
      "terra 1.7.55\n",
      "\n",
      "Loading required package: lattice\n",
      "\n"
     ]
    }
   ],
   "source": [
    "# You can find more detail on these libraries by consulting my install script or\n",
    "# visiting their page on CRAN.\n",
    "library(XML)\n",
    "library(ncdf4)\n",
    "library(sp)\n",
    "library(terra)\n",
    "library(downloader)\n",
    "library(ggplot2)\n",
    "library(directlabels)\n",
    "library(rasterVis)\n",
    "library(raster)"
   ]
  },
  {
   "cell_type": "code",
   "execution_count": 2,
   "metadata": {
    "vscode": {
     "languageId": "r"
    }
   },
   "outputs": [],
   "source": [
    "source(\"r_tutorial/helpers.r\")"
   ]
  },
  {
   "cell_type": "code",
   "execution_count": 3,
   "metadata": {
    "vscode": {
     "languageId": "r"
    }
   },
   "outputs": [],
   "source": [
    "xmin <- 22.0\n",
    "xmax <- 24.5\n",
    "ymin <- 39.0\n",
    "ymax <- 41.0"
   ]
  },
  {
   "cell_type": "code",
   "execution_count": 4,
   "metadata": {
    "vscode": {
     "languageId": "r"
    }
   },
   "outputs": [],
   "source": [
    "get_bathymetry <- function(xmin = 22.5, xmax = 25, ymin = 37.5, ymax = 40, resx=1, resy=1) {\n",
    "  name <- \"emodnet:mean\"\n",
    "  bounding_box <- paste(xmin, ymin, xmax, ymax, sep = \",\")\n",
    "  url <- paste(\"https://ows.emodnet-bathymetry.eu/wcs?service=wcs&version=1.0.0&request=getcoverage&coverage=\",\n",
    "               name, \"&crs=EPSG:4326&BBOX=\", bounding_box,\n",
    "               \"&format=image/tiff&interpolation=nearest&resx=\", resx, \"&resy=\", resy,\n",
    "               sep = \"\")\n",
    "  print(url)\n",
    "  temp <- paste(name, \"img.tiff\", sep = \"_\")\n",
    "  temp <- tempfile(temp)\n",
    "  download.file(url, temp, quiet = FALSE, mode = \"wb\")\n",
    "  img_raw <- raster(temp)\n",
    "  img_raw <- -1*img_raw\n",
    "  img_raw[img_raw < 0] <- 0\n",
    "  img_raw[img_raw == 0] <- NaN\n",
    "  return(img_raw)\n",
    "}"
   ]
  },
  {
   "cell_type": "code",
   "execution_count": 5,
   "metadata": {
    "vscode": {
     "languageId": "r"
    }
   },
   "outputs": [
    {
     "name": "stdout",
     "output_type": "stream",
     "text": [
      "[1] \"https://ows.emodnet-bathymetry.eu/wcs?service=wcs&version=1.0.0&request=getcoverage&coverage=emodnet:mean&crs=EPSG:4326&BBOX=22,39,24.5,41&format=image/tiff&interpolation=nearest&resx=0.01&resy=0.01\"\n"
     ]
    }
   ],
   "source": [
    "img <- get_bathymetry(xmin, xmax, ymin, ymax, resx = 0.01, resy=0.01)"
   ]
  },
  {
   "cell_type": "code",
   "execution_count": 6,
   "metadata": {
    "vscode": {
     "languageId": "r"
    }
   },
   "outputs": [],
   "source": [
    "bathy <- as.data.frame(as(img, \"SpatialPixelsDataFrame\"))"
   ]
  },
  {
   "cell_type": "code",
   "execution_count": 7,
   "metadata": {
    "vscode": {
     "languageId": "r"
    }
   },
   "outputs": [
    {
     "data": {
      "text/html": [
       "<table class=\"dataframe\">\n",
       "<caption>A data.frame: 6 × 3</caption>\n",
       "<thead>\n",
       "\t<tr><th></th><th scope=col>emodnet.mean_img</th><th scope=col>x</th><th scope=col>y</th></tr>\n",
       "\t<tr><th></th><th scope=col>&lt;dbl&gt;</th><th scope=col>&lt;dbl&gt;</th><th scope=col>&lt;dbl&gt;</th></tr>\n",
       "</thead>\n",
       "<tbody>\n",
       "\t<tr><th scope=row>1</th><td> 0.08326514</td><td>24.485</td><td>40.965</td></tr>\n",
       "\t<tr><th scope=row>2</th><td> 4.41793442</td><td>24.485</td><td>40.955</td></tr>\n",
       "\t<tr><th scope=row>3</th><td> 4.65628767</td><td>24.495</td><td>40.955</td></tr>\n",
       "\t<tr><th scope=row>4</th><td> 2.91300297</td><td>24.435</td><td>40.945</td></tr>\n",
       "\t<tr><th scope=row>5</th><td> 2.64227533</td><td>24.475</td><td>40.945</td></tr>\n",
       "\t<tr><th scope=row>6</th><td>13.21458912</td><td>24.485</td><td>40.945</td></tr>\n",
       "</tbody>\n",
       "</table>\n"
      ],
      "text/latex": [
       "A data.frame: 6 × 3\n",
       "\\begin{tabular}{r|lll}\n",
       "  & emodnet.mean\\_img & x & y\\\\\n",
       "  & <dbl> & <dbl> & <dbl>\\\\\n",
       "\\hline\n",
       "\t1 &  0.08326514 & 24.485 & 40.965\\\\\n",
       "\t2 &  4.41793442 & 24.485 & 40.955\\\\\n",
       "\t3 &  4.65628767 & 24.495 & 40.955\\\\\n",
       "\t4 &  2.91300297 & 24.435 & 40.945\\\\\n",
       "\t5 &  2.64227533 & 24.475 & 40.945\\\\\n",
       "\t6 & 13.21458912 & 24.485 & 40.945\\\\\n",
       "\\end{tabular}\n"
      ],
      "text/markdown": [
       "\n",
       "A data.frame: 6 × 3\n",
       "\n",
       "| <!--/--> | emodnet.mean_img &lt;dbl&gt; | x &lt;dbl&gt; | y &lt;dbl&gt; |\n",
       "|---|---|---|---|\n",
       "| 1 |  0.08326514 | 24.485 | 40.965 |\n",
       "| 2 |  4.41793442 | 24.485 | 40.955 |\n",
       "| 3 |  4.65628767 | 24.495 | 40.955 |\n",
       "| 4 |  2.91300297 | 24.435 | 40.945 |\n",
       "| 5 |  2.64227533 | 24.475 | 40.945 |\n",
       "| 6 | 13.21458912 | 24.485 | 40.945 |\n",
       "\n"
      ],
      "text/plain": [
       "  emodnet.mean_img x      y     \n",
       "1  0.08326514      24.485 40.965\n",
       "2  4.41793442      24.485 40.955\n",
       "3  4.65628767      24.495 40.955\n",
       "4  2.91300297      24.435 40.945\n",
       "5  2.64227533      24.475 40.945\n",
       "6 13.21458912      24.485 40.945"
      ]
     },
     "metadata": {},
     "output_type": "display_data"
    }
   ],
   "source": [
    "head(bathy)"
   ]
  },
  {
   "cell_type": "code",
   "execution_count": 14,
   "metadata": {
    "vscode": {
     "languageId": "r"
    }
   },
   "outputs": [],
   "source": [
    "thessaloniki_coords <- data.frame(x = c(40.6401), y = c(22.9444))"
   ]
  },
  {
   "cell_type": "code",
   "execution_count": 17,
   "metadata": {
    "vscode": {
     "languageId": "r"
    }
   },
   "outputs": [
    {
     "name": "stderr",
     "output_type": "stream",
     "text": [
      "Warning message:\n",
      "“\u001b[1m\u001b[22mRaster pixels are placed at uneven horizontal intervals and will be shifted\n",
      "\u001b[36mℹ\u001b[39m Consider using `geom_tile()` instead.”\n"
     ]
    },
    {
     "name": "stderr",
     "output_type": "stream",
     "text": [
      "ERROR while rich displaying an object: Error: Discrete value supplied to continuous scale\n",
      "\n",
      "Traceback:\n",
      "1. tryCatch(withCallingHandlers({\n",
      " .     if (!mime %in% names(repr::mime2repr)) \n",
      " .         stop(\"No repr_* for mimetype \", mime, \" in repr::mime2repr\")\n",
      " .     rpr <- repr::mime2repr[[mime]](obj)\n",
      " .     if (is.null(rpr)) \n",
      " .         return(NULL)\n",
      " .     prepare_content(is.raw(rpr), rpr)\n",
      " . }, error = error_handler), error = outer_handler)\n",
      "2. tryCatchList(expr, classes, parentenv, handlers)\n",
      "3. tryCatchOne(expr, names, parentenv, handlers[[1L]])\n",
      "4. doTryCatch(return(expr), name, parentenv, handler)\n",
      "5. withCallingHandlers({\n",
      " .     if (!mime %in% names(repr::mime2repr)) \n",
      " .         stop(\"No repr_* for mimetype \", mime, \" in repr::mime2repr\")\n",
      " .     rpr <- repr::mime2repr[[mime]](obj)\n",
      " .     if (is.null(rpr)) \n",
      " .         return(NULL)\n",
      " .     prepare_content(is.raw(rpr), rpr)\n",
      " . }, error = error_handler)\n",
      "6. repr::mime2repr[[mime]](obj)\n",
      "7. repr_text.default(obj)\n",
      "8. paste(capture.output(print(obj)), collapse = \"\\n\")\n",
      "9. capture.output(print(obj))\n",
      "10. withVisible(...elt(i))\n",
      "11. print(obj)\n",
      "12. print.ggplot(obj)\n",
      "13. ggplot_build(x)\n",
      "14. ggplot_build.ggplot(x)\n",
      "15. lapply(data, scales_train_df, scales = npscales)\n",
      "16. FUN(X[[i]], ...)\n",
      "17. lapply(scales$scales, function(scale) scale$train_df(df = df))\n",
      "18. FUN(X[[i]], ...)\n",
      "19. scale$train_df(df = df)\n",
      "20. train_df(..., self = self)\n",
      "21. self$train(df[[aesthetic]])\n",
      "22. train(..., self = self)\n",
      "23. self$range$train(x)\n",
      "24. train_continuous(x, self$range)\n",
      "25. stop(\"Discrete value supplied to continuous scale\", call. = FALSE)\n"
     ]
    }
   ],
   "source": [
    "map <- ggplot(aes(x = x, y = y, z = emodnet.mean_img), data = bathy) +\n",
    "  geom_raster(data = bathy, aes(fill = emodnet.mean_img)) +\n",
    "  geom_point(data = thessaloniki_coords, aes(x = x, y = y, fill = \"#000000\"), inherit.aes = FALSE) +\n",
    "  scale_fill_gradient(low = \"white\", high = \"darkblue\", name = \"Depth (m)\") +\n",
    "  coord_quickmap(xlim = range(xmin, xmax), ylim = range(ymin, ymax)) +\n",
    "  ggtitle(\"EMODnet Bathymetry\") + xlab(\"Longitude\") + ylab(\"Latitude\") +\n",
    "  theme_bw()\n",
    "map"
   ]
  },
  {
   "cell_type": "code",
   "execution_count": 13,
   "metadata": {
    "vscode": {
     "languageId": "r"
    }
   },
   "outputs": [
    {
     "data": {
      "text/html": [
       "<table class=\"dataframe\">\n",
       "<caption>A data.frame: 1 × 2</caption>\n",
       "<thead>\n",
       "\t<tr><th scope=col>x</th><th scope=col>y</th></tr>\n",
       "\t<tr><th scope=col>&lt;dbl&gt;</th><th scope=col>&lt;dbl&gt;</th></tr>\n",
       "</thead>\n",
       "<tbody>\n",
       "\t<tr><td>40.6401</td><td>22.9444</td></tr>\n",
       "</tbody>\n",
       "</table>\n"
      ],
      "text/latex": [
       "A data.frame: 1 × 2\n",
       "\\begin{tabular}{ll}\n",
       " x & y\\\\\n",
       " <dbl> & <dbl>\\\\\n",
       "\\hline\n",
       "\t 40.6401 & 22.9444\\\\\n",
       "\\end{tabular}\n"
      ],
      "text/markdown": [
       "\n",
       "A data.frame: 1 × 2\n",
       "\n",
       "| x &lt;dbl&gt; | y &lt;dbl&gt; |\n",
       "|---|---|\n",
       "| 40.6401 | 22.9444 |\n",
       "\n"
      ],
      "text/plain": [
       "  x       y      \n",
       "1 40.6401 22.9444"
      ]
     },
     "metadata": {},
     "output_type": "display_data"
    }
   ],
   "source": [
    "goo = data.frame(x = c(40.6401), y = c(22.9444))\n",
    "goo"
   ]
  },
  {
   "cell_type": "code",
   "execution_count": 9,
   "metadata": {
    "vscode": {
     "languageId": "r"
    }
   },
   "outputs": [
    {
     "data": {
      "text/html": [
       "'vector'"
      ],
      "text/latex": [
       "'vector'"
      ],
      "text/markdown": [
       "'vector'"
      ],
      "text/plain": [
       "[1] \"vector\""
      ]
     },
     "metadata": {},
     "output_type": "display_data"
    }
   ],
   "source": [
    "object_type(c(1,1))"
   ]
  },
  {
   "cell_type": "code",
   "execution_count": 10,
   "metadata": {
    "vscode": {
     "languageId": "r"
    }
   },
   "outputs": [
    {
     "data": {
      "text/html": [
       "<table class=\"dataframe\">\n",
       "<caption>A data.frame: 1 × 2</caption>\n",
       "<thead>\n",
       "\t<tr><th scope=col>x</th><th scope=col>y</th></tr>\n",
       "\t<tr><th scope=col>&lt;dbl&gt;</th><th scope=col>&lt;dbl&gt;</th></tr>\n",
       "</thead>\n",
       "<tbody>\n",
       "\t<tr><td>1</td><td>2</td></tr>\n",
       "</tbody>\n",
       "</table>\n"
      ],
      "text/latex": [
       "A data.frame: 1 × 2\n",
       "\\begin{tabular}{ll}\n",
       " x & y\\\\\n",
       " <dbl> & <dbl>\\\\\n",
       "\\hline\n",
       "\t 1 & 2\\\\\n",
       "\\end{tabular}\n"
      ],
      "text/markdown": [
       "\n",
       "A data.frame: 1 × 2\n",
       "\n",
       "| x &lt;dbl&gt; | y &lt;dbl&gt; |\n",
       "|---|---|\n",
       "| 1 | 2 |\n",
       "\n"
      ],
      "text/plain": [
       "  x y\n",
       "1 1 2"
      ]
     },
     "metadata": {},
     "output_type": "display_data"
    }
   ],
   "source": [
    "foo <- data.frame(x=c(1), y=c(2))\n",
    "foo"
   ]
  },
  {
   "cell_type": "markdown",
   "metadata": {},
   "source": []
  }
 ],
 "metadata": {
  "kernelspec": {
   "display_name": "R",
   "language": "R",
   "name": "ir"
  },
  "language_info": {
   "codemirror_mode": "r",
   "file_extension": ".r",
   "mimetype": "text/x-r-source",
   "name": "R",
   "pygments_lexer": "r",
   "version": "4.3.1"
  }
 },
 "nbformat": 4,
 "nbformat_minor": 2
}
