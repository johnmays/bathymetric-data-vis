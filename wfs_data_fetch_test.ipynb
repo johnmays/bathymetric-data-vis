{
 "cells": [
  {
   "cell_type": "markdown",
   "metadata": {},
   "source": [
    "# Bathymetric Data Visualization\n",
    "- __Overall Objective:__ Acquire vector or high-definition raster images of equal-depth lines from Meditteranean bathymetry data.\n",
    "- __Sub-Objective (for this notebook):__ Get acquainted with how to fetch data from WFS, which offers bathymetric contour lines.\n",
    "- __About Data:__  Aside from WCS, there is separate service called the Web Feature Service(WFS) offered by EMODNet.  It seems as if WFS is the only way to acquire their bathymetric contour lines, although you could hypothetically make them from raster data too (maybe I'll try that in another notebook)."
   ]
  },
  {
   "cell_type": "code",
   "execution_count": null,
   "metadata": {
    "vscode": {
     "languageId": "r"
    }
   },
   "outputs": [],
   "source": [
    "# tutorial link: https://inbo.github.io/tutorials/tutorials/spatial_wfs_services/"
   ]
  }
 ],
 "metadata": {
  "kernelspec": {
   "display_name": "R",
   "language": "R",
   "name": "ir"
  },
  "language_info": {
   "name": "R"
  }
 },
 "nbformat": 4,
 "nbformat_minor": 2
}
